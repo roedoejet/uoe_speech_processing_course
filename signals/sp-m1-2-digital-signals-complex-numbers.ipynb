{
 "cells": [
  {
   "cell_type": "markdown",
   "metadata": {},
   "source": [
    "#### _Speech Processing Labs 2020: Signals: Module 1_"
   ]
  },
  {
   "cell_type": "code",
   "execution_count": null,
   "metadata": {},
   "outputs": [],
   "source": [
    "## Make sure you run this cell before you run the code cells below!\n",
    "## You can type shift-enter to run a cell and move to the next one\n",
    "%matplotlib inline\n",
    "import sys\n",
    "import matplotlib.pyplot as plt\n",
    "import numpy as np\n",
    "\n",
    "import cmath\n",
    "import math\n",
    "from matplotlib.animation import FuncAnimation\n",
    "from IPython.display import HTML\n",
    "plt.style.use('ggplot')"
   ]
  },
  {
   "cell_type": "markdown",
   "metadata": {},
   "source": [
    "# 2 Digital Signals: Sinusoids and Complex Numbers\n",
    "\n",
    "### Learning Outcomes\n",
    "* Develop an intuitive understanding of the relationship between complex numbers, polar coordinates and sinusoids (Euler's formula)\n",
    "* See that an infinitely long sinusoid in the time-domain can be described as a rotations of vector representing a complex number with specific magnitude and angular frequency (i.e. a phasor)\n",
    "\n",
    "\n",
    "### Need to know\n",
    "* Topic Videos: Periodic Signal, Digital Signal\n",
    "* Sinusoids: $\\sin(t)$, $\\cos(t)$\n",
    "    * [a quick trig refresher](https://www.youtube.com/watch?v=2E_O_CR9FA8)\n",
    "* 2 dimensional vectors and coordinates: \n",
    "    * [a great intro to vectors/linear algebra](https://www.youtube.com/watch?v=fNk_zzaMoSs&list=PLZHQObOWTQDPD3MizzM2xVFitgF8hE_ab&index=2&t=7s) \n",
    "* degrees and radians: \n",
    "    * [a nice video on radians](https://www.youtube.com/watch?v=cgPYLJ-s5II)\n",
    "    \n",
    "<div class=\"alert alert-warning\">\n",
    "<strong>Equation alert</strong>: If you're viewing this on github, please note that the equation rendering is not always perfect. You should view the notebooks through a jupyter notebook server for an accurate view, especially for later notebooks. \n",
    "</div>"
   ]
  },
  {
   "cell_type": "markdown",
   "metadata": {},
   "source": [
    "## 2.0 To the Frequency Domain! \n",
    "\n",
    "In the class videos, you've seen that sound waves are changes in air pressure (amplitude) over time. In the previous [notebook](sp-m1-1-sounds-signals.ipynb), we saw that we can characterise differences in sounds, particularly _speech sounds_ based on their pitch and spectrogram.  In the next worksheets, we'll look in more depth at how you can decompose a sound wave into simpler sinusoidal parts and how this gets us the spectrogram.  But to do, we first have to deal with the fact that computers only deal with discrete values.  Going from an continuous (i.e. analogue) to a discrete representation brings up a number of issues that you'll need to be aware of when you deal with speech, e.g. aliasing and spectral leakage. \n",
    "\n",
    "To understand why these issues arise, you need to know a little bit about the maths behind how we represent and analyze waveforms. So, this is what these notebooks are about!  But don't worry about reproducing the maths or code here.  The goal is to play with these concepts so that you start to develop some intuitions about what sort of analyses you can do, why you see so many different parameters when you look at Praat settings, and the limitations of these standard digital signal processing methods. \n",
    "\n"
   ]
  },
  {
   "cell_type": "markdown",
   "metadata": {},
   "source": [
    "### Destination: The Discrete Fourier Transform\n",
    "\n",
    "Tools like Praat make it really easy to look at speech from the perspectives of both the time and frequency domain. \n",
    "But if we look 'under the hood', we see that the way we figure out frequency components are present in a specific sound is by using the **Discrete Fourier Transform**.  If you look this up in a text book (e.g. Jurafsky and Martin), you'll see it described like this: \n",
    "\n",
    "\n",
    "$$DFT[k] = \\sum_{n=0}^{N-1} x[n] e^{j\\theta }$$\n",
    "\n",
    "\n",
    "where, \n",
    "\n",
    "$$\\theta = k \\frac{2 \\pi n}{N}$$\n",
    "\n",
    "So, this is the underlying 'technology' that gets you your spectrogram view in Praat. But, what does this actually mean? And how does it work? Why are there **exponentials** and **complex numbers** in the formula? What does this $\\varphi$ term represent? What do you have to think about when you're applying this bit of maths? We already saw that there is a trade off between time and frequency resolution (depending on the length of the analysis window). What else do we have to look out for?  \n",
    "\n",
    "The main issue is that in order to analyze a speech on a computer, we have to convert the continuous pressure wave to a discrete representations of (essentially) 1s and 0s.  This comes with a bunch of not so obvious side effects that have a big impact on how we process speech. \n",
    "\n"
   ]
  },
  {
   "cell_type": "markdown",
   "metadata": {},
   "source": [
    "### Here's one I prepared earlier:\n",
    "\n",
    "\n",
    "You've seen in the course videos (Series Expansion, Fourier Analysis) that we can break down complicated waveforms into a combination of simpler components, specifically **sinusoids** of different frequencies. This is basically what the DFT _does_.  \n",
    "\n",
    "![Compound waveform decomposition into sine waves](fig/compound_waveform.png)\n",
    "\n",
    "In this picture, you should see a somewhat complicated waveform on the left and the 3 sinusoidal (i.e., [pure tone](https://en.wikipedia.org/wiki/Pure_tone)) components on the right (8 Hz, 20 Hz, 36 Hz).  We can decompose the waveform on the left into the three on the right. Each of these components has a different **peak amplitude**.  You might also notice that the first and the third components start with value 1 at time zero: they're actually cosine waves.  As we'll see, you can describe a sine wave in terms of the cosine function with a bit of _phase shifting_ (and vice versa).  The main point is that you can break down complicated periodic waveforms into sine wave shaped components representing a pure tone of a specific frequency. For speech sounds, the relative magnitudes of these frequency component affects what phones/words/sentences we hear. \n",
    "\n",
    "But to actually understand  how you get this from the DFT formula, we first need to remember what the relationship between complex numbers and sinusoids. \n"
   ]
  },
  {
   "cell_type": "markdown",
   "metadata": {},
   "source": [
    "## 2.1 Phasors and Sinusoids: tl;dr\n",
    "\n",
    "At this point, we should say that you can get a conceptual understanding of digital signal processing concepts without going through _all_ the math. We certainly won't be examining your knowledge of complex numbers or geometry in this class.  Of course, if you want to go further in understanding digital signal processing then you will have to learn a bit about complex numbers, algebra, calculus and geometry.\n",
    "\n",
    "However, right now the main point that we'd like you to take away from this notebook is that we can conveniently represent periodic functions in terms of **phasors**: basically what shown on the left hand side of the following gif:\n",
    "\n",
    "![Phasor to sine wave gif](fig/phasor.gif)\n",
    "\n",
    "You can think of the phasor as an analogue clockface with one moving hand. On the right hand side is a sinusoid, sin(t), which you saw in the previous notebook.   \n",
    "\n",
    "Now, we can think of every movement of the 'clockhand' (the phasor is actually this **vector**) as a step in time on the sinusoid graph: at every time step, the phasor rotates by some angle. If you follow the blue dots on both graphs, you should be able to see that the amplitude of the sinusoid matches the height of the 'clockhand' on the phasor at each time step. \n",
    "\n",
    "This gives us a different way of viewing the periodicity of $\\sin(t)$.  The sinusoid starts to repeat itself when the phasor has done one full circle. So, rather than drawing out an infinite time vs amplitude graph, we can capture the behaviour of this periodic function in terms rotations with respect to this finite circle. \n",
    "\n",
    "So, what's the connection with complex numbers?  Well, that blue dot on the phasor actually represents a complex number, and dimensions of that graph are actually the **real** (horizontal) and **imaginary** (vertical) parts of that number.  We'll explain what that means shortly. Quite conveniently, we can express that complex number in terms of a **magnitude** or radius $r$ (length of the clockhand) and a **phase angle** $\\theta$ (angle of rotation from the point (1,0)) and an exponential.  So, we can write each point that the phasor hits in the form $re^{j\\theta}$ - which is what we saw in the DFT formula above! \n",
    "\n",
    "This relationship with complex numbers basically allows us to describe complicated periodic waveforms in terms of combinations of 'pure tone' sinusoids.  It turns out that maths for this works very elegantly using the phasor/complex number based representation. \n",
    "\n",
    "The rest of this notebook will provide a brief tour of these concepts, from complex numbers to the relationship between phasors and sinusoids via Euler's formula.  This isn't a maths class, so it's fine if you don't get all the details, but we'd suggest you have a read and see how far you get.  The main thing is that you start to make the connection between our clock like phasor and periodic functions in the time domain. \n",
    "\n",
    " "
   ]
  },
  {
   "cell_type": "markdown",
   "metadata": {},
   "source": [
    "<div class=\"alert alert-success\" role=\"alert\">\n",
    "\n",
    "We'll be just touching the basics on complex numbers in the following (and very quickly too!).  If you're interested in going further into complex numbers, quite conveniently for us,  Grant Sanderson of 3blue1brown did a lockdown lecture session on complex numbers (starting from scratch) that's well worth a watch! \n",
    "https://youtu.be/5PcpBw5Hbwo\n",
    "    \n",
    " </div>"
   ]
  },
  {
   "cell_type": "markdown",
   "metadata": {},
   "source": [
    "## 2.2  A very quicker primer on complex numbers\n",
    "\n",
    "\n",
    "The first thing you need to know is what that $j$ in $e^{\\varphi j}$ represents.  The answer is that it's the solution to this equation (i.e. the value of $x$ that satisfies this): \n",
    "\n",
    "$$x^2 = -1$$\n",
    "\n",
    "Now, no actual [Real](https://en.wikipedia.org/wiki/Real_number) number $x$  solves this equation, so mathematicians made up one! Our basic imaginary number, $j$ \n",
    "\n",
    "\n",
    "$$j^2 = -1$$\n",
    "\n",
    "i.e., \n",
    "\n",
    "$$j = \\sqrt{-1}$$\n",
    "\n",
    "\n",
    "<div class=\"alert alert-warning\">\n",
    "<strong>Notation alert</strong>: In maths $\\sqrt{-1}$ is usually referred to by the letter $i$.  However, it's often referred to in engineering texts as $j$.  Since, this is also what python uses to represent imaginary numbers (i.e. the special symbol `1j`) we'll use $j$ in these notebooks.  But don't be surprised if you see $i$ elsewere.  \n",
    "</div>\n",
    "\n",
    "Well, that seems pretty random and not very useful on first glance.  But actually it opens up a lot of doors to make a lot of very difficult problems simpler (the Fourier Transform being one of them). It turns out having a number $j$ with the property above is actually very handy!\n",
    "\n",
    "Now, since $j$ is not a Real number, we have to start thinking about different sorts of number: complex numbers.  \n",
    "\n",
    "**Complex numbers** have the form: \n",
    "\n",
    "$$ c = a + jb $$\n",
    "\n",
    "We call $a$ **the real part**  and $b$ is **the imaginary part** of complex number $c$ (though $a$ and $b$ themselves are real numbers).  It's useful to think of complex numbers as vectors on the complex plane: $a$ is an x-axis (horizontal) coordinate, and $b$ is the y-axis (vertical, actually the  $j$-axis in this case) coordinate. \n",
    "\n",
    "\n",
    "\n",
    "When we plot complex numbers, we see that they're very much like other 2-D spaces.  The following plots a bunch of complex numbers on the complex plane (aka an **Argand diagram**). "
   ]
  },
  {
   "cell_type": "code",
   "execution_count": null,
   "metadata": {
    "scrolled": false
   },
   "outputs": [],
   "source": [
    "## Define a bunch of complex numbers:\n",
    "\n",
    "## (6j, 1+7j, 2+8j, 3+9j, 4+10j]\n",
    "complex_nums = np.arange(5) + 1j * np.arange(6,11)\n",
    "print(\"A list containing five complex numbers:\")\n",
    "for c in complex_nums:\n",
    "    print(c)\n",
    "\n",
    "## Get the real parts of each complex number\n",
    "A = [x.real for x in complex_nums]\n",
    "\n",
    "## Get the imaginary parts of each complex number\n",
    "B = [x.imag for x in complex_nums]\n",
    "\n",
    "## Plot them, just like any other 2-D plot\n",
    "plt.scatter(A,B, color='red')\n",
    "plt.title(\"Complex numbers as rectangular coordinates\")\n",
    "plt.xlabel(\"the real component\")\n",
    "plt.ylabel(\"the imaginary component\")\n",
    "plt.show()\n",
    "print(\"Looks just like any other x-y plot except in this case the x axis represents the real part\\n and the y axis is the imaginary part\")"
   ]
  },
  {
   "cell_type": "markdown",
   "metadata": {},
   "source": [
    "## 2.3 Complex numbers and polar coordinates\n",
    "\n",
    "So, we can represent complex numbers in the usual **rectangular** coordinate system (i.e. **Cartesian coordinates**).  That is,  $a + ib \\mapsto (a, b)$, if we treat the 2nd coordinate as representing multiplication with $j$.  But, we can also represent points on a 2-D map in terms of **polar coordinates**.  That is in terms of angles ($\\theta$) and magnitudes ($r$). \n",
    "\n",
    "This isn't something specific to complex numbers. It actually just falls out from the fact that we can represent complex numbers as a 2-D plane. You can use polar coordinates to easily represent complicated cyclic patterns that are a pain to represent in rectangular coordinates (pretty much anything involving anything circle like).\n",
    "\n",
    "<div class=\"alert alert-warning\">\n",
    "    It's often easier to deal with angles measured in <strong>radians</strong> rather than <strong>degrees</strong>.  The main thing to note is that:\n",
    "    $$2\\pi \\text{ radians} = 360 \\text{ degrees, i.e. 1 full circle }$$\n",
    "Again, it may not seem obvious why we should want to use radians instead of the more familiar degrees.  The reason is that it makes dividing up a circle really nice and neat and so ends up making calculations much easier in the long run!\n",
    "</div>\n",
    "\n",
    "Let's plot some complex numbers using polar coordinates:"
   ]
  },
  {
   "cell_type": "code",
   "execution_count": null,
   "metadata": {},
   "outputs": [],
   "source": [
    "## The python library for doing things with complex numbers is called cmath\n",
    "## This allows us to easily convert between rectangular and polar coordinates\n",
    "\n",
    "# Let's plot 8 points\n",
    "N=8\n",
    "\n",
    "## 2*pi Radians = 360 degrees\n",
    "## Get a bunch of angles representing N points evenly spaced around a circle\n",
    "## For N=8, each angle in radians in n*2pi/8\n",
    "thetas = [(2*cmath.pi*n)/N for n in range(N)]\n",
    "#print(\"thetas:\", thetas)\n",
    "\n",
    "## Generate some magnitudes, starting at 2 and decreases as i increase\n",
    "rs = [2/(i+1) for i in range(N)]\n",
    "#print(\"rs:\", rs)\n",
    "\n",
    "print(\"points in polar coordinates (r=magnitude, theta=angle):\")\n",
    "for r, theta in zip(rs, thetas):\n",
    "    print(\"%f, %f\" % (r, theta))\n",
    "\n",
    "polar = plt.subplot(projection='polar')\n",
    "polar.scatter(thetas, rs)\n",
    "polar.set_rticks([0.5, 1, 1.5, 2])  # less radial ticks\n",
    "polar.set_rmax(2.2)\n",
    "polar.set_title(\"Complex numbers as polar coordinates: angles and magnitudes\")\n",
    "\n"
   ]
  },
  {
   "cell_type": "markdown",
   "metadata": {},
   "source": [
    "## 2.4 Going between polar and rectangular coordinates\n",
    "\n",
    "Just as for regular vectors, we can go back and forth between coordinate types using some trignometric rules. \n",
    "Let's first let's check the conversion between polar coordinates to rectangular coordinates using some python complex number built in functions:"
   ]
  },
  {
   "cell_type": "code",
   "execution_count": null,
   "metadata": {},
   "outputs": [],
   "source": [
    "## Convert the complex numbers from the plot above from polar coordinates to rectangular coordinates\n",
    "cnums = [cmath.rect(rs[i], thetas[i]) for i in range(N)]\n",
    "\n",
    "## Get the real parts of each complex number\n",
    "X = [x.real for x in cnums]\n",
    "\n",
    "## Get the imaginary parts of each complex number\n",
    "Y = [x.imag for x in cnums]\n",
    "\n",
    "## Plot\n",
    "fig, ax = plt.subplots(figsize=(5, 5))\n",
    "ax.set(xlim=(-2.2, 2.2), ylim=(-2, 2))\n",
    "\n",
    "ax.plot([-2,2], [0,0], color='grey')\n",
    "ax.plot([0,0],[-2,2], color='grey')\n",
    "ax.scatter(X,Y, color='red')\n",
    "ax.set_xlabel(\"the real component\")\n",
    "ax.set_ylabel(\"the imaginary component\")\n",
    "ax.set_title(\"polar coordinates to rectangular coordinates\")\n",
    "\n",
    "\n",
    "#print(cnums)"
   ]
  },
  {
   "cell_type": "markdown",
   "metadata": {},
   "source": [
    "Looking closer at the second point: ($r=1, \\theta=\\pi/4$), we can derive the rectangular coordinates from the polar coordinates (and vice-versa)  using some trigonometry, since we're essentially looking at a right angled triangle."
   ]
  },
  {
   "cell_type": "markdown",
   "metadata": {},
   "source": [
    "### Conversion Formulae\n",
    "\n",
    "You may remember learning the basic trigonometric relations  under the mnemonic: SOH CAH TOA, \n",
    "\n",
    "* SOH: $\\sin(\\theta) = \\text{opposite}/\\text{hypoteneuse}$:\n",
    "* CAH: $\\cos(\\theta) = \\text{adjacent}/\\text{hypoteneuse}$:\n",
    "* TOA: $\\tan(\\theta) = \\text{opposite}/\\text{adjacent}$: \n",
    "\n",
    "\n",
    "So, for a complex number $c = a + ib$ represented by rectangular coordinates $(a,b)$, we can calculate $r$ (i.e the hypoteneuse) and $\\theta$ as follows:\n",
    "\n",
    "$$ r = \\sqrt{a^2 + b^2} $$\n",
    "and\n",
    "$$ \\theta = \\tan^{-1} \\Big( \\frac{b}{a} \\Big)$$\n",
    "\n",
    "\n",
    "Similarly, to go from polar coordinates $(r, \\theta)$, we can use the following: \n",
    "\n",
    "For the real component:\n",
    "$$a = r \\cos(\\theta) $$\n",
    "\n",
    "For the imaginary component:\n",
    "$$b = r \\sin(\\theta) $$\n",
    "\n",
    "\n",
    "**Note** You don't have to memorize and trigonometric formulae for this course, but as always, developing your intuitions around these concepts will help understand digital signal processing better. "
   ]
  },
  {
   "cell_type": "markdown",
   "metadata": {},
   "source": [
    "### A geometric representation of the conversation formulae\n",
    "\n",
    "The following graphs visualize the how the conversion formulae arise from the geometry of right angled triangles, using the 2nd point in the example above (magnitude=1, angle=$\\pi/4$ radians = 45 degrees).\n",
    "\n",
    "\n",
    "![Geometric representation of the conversion between rectangular and polar coordinates](./fig/polar_rect_conversion.png)"
   ]
  },
  {
   "cell_type": "markdown",
   "metadata": {},
   "source": [
    "### Why do we want this imaginary bit? \n",
    "\n",
    "At this point, you may be asking yourself 'why not just use 2-d vectors? why bring this imaginary thing into it?'.\n",
    "One important reason is that we can interpret multiplication by $j$ as a rotation by $\\pi/2$ radians (90 degrees). If we keep multiplying $j$ by itself, we go around in a circle eventually ending up where we started:\n",
    "\n",
    "* $j^0 = 1$\n",
    "* $j^1 = 1 \\times j = j$\n",
    "* $j^2 = j \\times j = -1$\n",
    "* $j^3 = -1 \\times j = -j$\n",
    "* $j^4 = -j \\times j = 1$\n",
    "\n",
    "\n",
    "Let's see what this looks like on the 2-D complex plane\n"
   ]
  },
  {
   "cell_type": "code",
   "execution_count": null,
   "metadata": {},
   "outputs": [],
   "source": [
    "## Let's plot our powers of j from j^0  to j^4\n",
    "\n",
    "## the imaginary number j\n",
    "j = 1j\n",
    "\n",
    "## the powers of j from 0 to 4\n",
    "cnums = [1, j, j*j, j*j*j, j*j*j*j]\n",
    "\n",
    "## Get the real and imaginary parts for plotting\n",
    "cnums_real = np.array([cnum.real for cnum in cnums])\n",
    "cnums_imag = np.array([cnum.imag for cnum in cnums])\n",
    "\n",
    "print(\"powers of j:\", cnums)\n",
    "print(\"real part:\",  cnums_imag)\n",
    "print(\"imaginary part:\", cnums_imag)\n",
    "\n",
    "## Plot what happens when we keep multiplying j by itself\n",
    "fig, ax = plt.subplots(figsize=(5, 5))\n",
    "ax.set(xlim=(-2.2, 2.2), ylim=(-2, 2))\n",
    "ax.plot([-2,2], [0,0], color='grey')\n",
    "ax.plot([0,0],[-2,2], color='grey')\n",
    "\n",
    "# plot the points\n",
    "ax.scatter(cnums_real,cnums_imag, color='red')\n",
    "\n",
    "# add some labels\n",
    "labels = [r'$j^0 = 1$', r'$j^1 = j$', r'$j^2=-1$', r'$j^3 = -j$']\n",
    "for i, txt in enumerate(labels):\n",
    "    ax.annotate(txt, (cnums_real[i]-0.3, cnums_imag[i]+0.1),  fontsize=14)\n",
    "ax.annotate(r'$j^4 = 1$' , (cnums_real[4]-0.3, cnums_imag[4]-0.3),  fontsize=14)\n",
    "\n",
    "# label the axes\n",
    "ax.set_xlabel(\"the real component\")\n",
    "ax.set_ylabel(\"the imaginary component\")\n",
    "ax.set_title(\"multiplication by imaginary j as a 90 degree rotation\")"
   ]
  },
  {
   "cell_type": "markdown",
   "metadata": {},
   "source": [
    "You should see that if we continue to multiply $j$ by itself we just keep rotating 90 degrees ($\\pi/2$ radians) around the the origin (0,0). This rotation property turns out to be really useful in signal processing (and electric engineering more generally). "
   ]
  },
  {
   "cell_type": "markdown",
   "metadata": {},
   "source": [
    "## 2.5 Euler's Formula\n",
    "\n",
    "We can express the relationship between complex numbers in polar and rectangular coordinates in a very neat way using **Euler's formula**: \n",
    "\n",
    "\n",
    "$$ e^{j \\varphi} = \\cos(\\varphi) + j \\sin(\\varphi) $$\n",
    "\n",
    "So, $e^{j \\varphi}$ is the complex number with magnitude $r=1$ and angle $\\theta = \\varphi$.  That is, if we trace this out for all possible values of $\\varphi$ we draw out a circle centered at (0,0) with radius 1, i.e. the **unit circle**\n",
    "\n",
    "This means that: \n",
    "\n",
    "$$ R e^{i \\varphi} = R(\\cos(\\varphi) + j \\sin(\\varphi)) $$\n",
    "\n",
    "is the complex number with magnitude $R$ and angle $\\varphi$. So, if we draw this value for values of $\\varphi$ between 0 and $2\\pi$ radians, we get a circle centered at (0,0) with radius $R$.\n",
    "\n",
    "Let's see a plot of this:"
   ]
  },
  {
   "cell_type": "code",
   "execution_count": null,
   "metadata": {},
   "outputs": [],
   "source": [
    "## Take a bunch of angle values from 0 to 2pi (one full circles)\n",
    "theta_max = 2*np.pi\n",
    "theta_min = 0\n",
    "theta_step = 0.01\n",
    "thetas = np.arange(theta_min, theta_max, theta_step)\n",
    "\n",
    "## the radius r: try changing this\n",
    "R = 1\n",
    "\n",
    "## Generate sequence of complex numbers with r=1, theta=theta, for theta in thetas\n",
    "zs = R*np.exp(1j*thetas)\n",
    "\n",
    "## Now get the real and imaginary component (i.e. the rectangular coordinates)\n",
    "zs_real = np.real(zs)\n",
    "zs_imag = np.imag(zs)\n",
    "\n",
    "## Plot it! \n",
    "fig, ax = plt.subplots(figsize=(5, 5))\n",
    "\n",
    "## Some axes in grey\n",
    "ax.plot([-5,5], [0,0], color='grey')\n",
    "ax.plot([0,0],[-5,5], color='grey')\n",
    "ax.set(xlim=(-5, 5), ylim=(-5, 5))\n",
    "\n",
    "## The complex numbers\n",
    "ax.plot(zs_real, zs_imag)\n",
    "\n",
    "## Some labels\n",
    "ax.set_ylabel('Imaginary component')\n",
    "ax.set_xlabel('Real component')\n",
    "axt = ax.set_title('A circle of radius %f on the complex plane, drawn using $e^{j\\\\theta}$, for $0 < \\\\theta \\leq 2\\\\pi$' % R)"
   ]
  },
  {
   "cell_type": "markdown",
   "metadata": {},
   "source": [
    "\n",
    "### Exercise\n",
    "\n",
    "* Try varying the `R` value in the plot above and see how this changes the radius of the circle centered at (0,0).\n",
    "* How might you draw a circle that wasn't centered at (0,0)?"
   ]
  },
  {
   "cell_type": "code",
   "execution_count": null,
   "metadata": {},
   "outputs": [],
   "source": []
  },
  {
   "cell_type": "markdown",
   "metadata": {},
   "source": [
    "## 2.6 Plotting sine waves from complex numbers"
   ]
  },
  {
   "cell_type": "markdown",
   "metadata": {},
   "source": [
    "### Phasors: From Complex numbers  to Sinusoids \n",
    "\n",
    "The most important we'll take away from Euler's formula is that we can use it to describe a sinusoid varying in amplitude over time.  Instead of thinking of an endless time vs amplitude graph, we can think of the sinusoid in terms a fixed length vector rotating around the a point a on the complex plane - something like an analogue clockface.  We'll call this sort of rotating vector a **phasor**, where we can think of the vector $re^{jt}$ as a single hand (length $r$) ticking around it.\n",
    "\n",
    "When we think about phasors, we have to start thinking about changes over time for a waveform as a change in a phasor's angle with respect to the real (horizontal) and imaginary (vertical) axes on the complex plane. \n",
    "\n",
    "If we go back to Euler's formula: \n",
    "\n",
    "$$ e^{jt} = \\cos(t) + j \\sin(t) $$ \n",
    "\n",
    "We see that $e^{jt}$ is just a complex number and also: \n",
    "\n",
    "$$ \\cos(t) = \\text{Real}(e^{jt}) $$\n",
    "and\n",
    "$$ \\sin(t) = \\text{Imag}(e^{jt}) $$\n",
    "\n",
    "What this means is that a sine wav, $\\sin(t)$, is just the projection of $e^{jt}$ onto the imaginary (vertical) axis, and $\\cos(t)$ is the projection of $e^{jt}$ onto the real (horizontal) axis.  \n",
    "\n",
    "But this is all very abstract! It's much easier to see if we visualize what happens as we vary $t$...\n"
   ]
  },
  {
   "cell_type": "code",
   "execution_count": null,
   "metadata": {},
   "outputs": [],
   "source": [
    "## Plot a phasor and a corresponding sine wave \n",
    "\n",
    "## First, let's set up a sequence of theta steps (angles around a circle).  Changes in the time for a sine wave as equivalent to change in angle \n",
    "## for the phasor\n",
    "\n",
    "theta_max = 7\n",
    "theta_min = 0\n",
    "theta_step = 0.23\n",
    "thetas = np.arange(theta_min, theta_max, theta_step)\n",
    "\n",
    "R=1\n",
    "\n",
    "## Generate sequence of complex numbers with r=1, theta=theta, for theta in thetas\n",
    "zs = R*np.exp(1j*thetas)\n",
    "#print(\"zs:\")\n",
    "#print(zs)\n",
    "\n",
    "## Get the real and imaginary parts to plot in rectangular coordinates\n",
    "# Using numpy built-in functions\n",
    "As = np.real(zs)\n",
    "Bs = np.imag(zs)\n"
   ]
  },
  {
   "cell_type": "code",
   "execution_count": null,
   "metadata": {
    "scrolled": true
   },
   "outputs": [],
   "source": [
    "## Plot the phasor and sinusoid\n",
    "\n",
    "## Make 2 figures, a phasor on the left and the corresponding sinusoid on the right\n",
    "fig, (phasor, sinusoid) = plt.subplots(1, 2, gridspec_kw={'width_ratios': [4, 7]}, figsize=(15,5))\n",
    "phasor.set(xlim=(-2, 2), ylim=(-2, 2))\n",
    "\n",
    "## plot the phasor: these are our complex zs values, i.e. e^(j*theta)\n",
    "## Since we set the magnitude to r=1, all these points sit nicely on the unit circle\n",
    "\n",
    "## Add in some axes lines\n",
    "phasor.plot([-2,2], [0,0], color='grey')\n",
    "phasor.plot([0,0],[-2,2], color='grey')\n",
    "\n",
    "## Plot the unit circle in grey just to check \n",
    "circle1 = plt.Circle((0, 0), 1, color='grey',fill=False)\n",
    "phasor.add_artist(circle1)\n",
    "\n",
    "## plot our complex numbers (rectangular coordinates)\n",
    "phasor.scatter(As, Bs)\n",
    "\n",
    "## Some labels for the left hand plot\n",
    "phasor.set_xlabel(\"Real Component\")\n",
    "phasor.set_ylabel(\"Imaginary Component\")\n",
    "\n",
    "\n",
    "## plot the sinusoid on the right: sin(theta)\n",
    "## The x-axis represents our theta values (think of this as time)\n",
    "## The y-axis is sin(theta)\n",
    "sinusoid.set(xlim=(theta_min, theta_max), ylim=(-2, 2))\n",
    "sinusoid.plot(thetas, np.sin(thetas), color='grey')\n",
    "sinusoid.plot(thetas, Bs, 'o')\n",
    "\n",
    "## Some labels for the right hand plot\n",
    "sinusoid.set_ylabel(\"Amplitude\")\n",
    "sinusoid.set_xlabel(\"Time ($t$ radians = $t$ seconds) \")\n"
   ]
  },
  {
   "cell_type": "markdown",
   "metadata": {},
   "source": [
    "The plot above shows a phasor  and it's corresponding sine wave (i.e. imaginary component) projection over a specific time range (0 to 7 radians).  The points on phasor (left) all lie on the unit circle, while the projection (right) looks like like like a sine wave over time. You'll see after $2\\pi \\approx 6.3$ radians, the phasor has completed one cycle and the sine wave starts to repeat itself."
   ]
  },
  {
   "cell_type": "markdown",
   "metadata": {},
   "source": [
    "### Let's get moving! \n",
    "It's a bit hard to see the relationship in time as a static graph, so let's make an animated version:"
   ]
  },
  {
   "cell_type": "code",
   "execution_count": null,
   "metadata": {},
   "outputs": [],
   "source": [
    "## plot the relationship between the sinusoid and cycle of the unit circle on the complex plane\n",
    "\n",
    "## Generate coordinates to draw a vector representation (i.e. the clock hand) of the points on the phasor \n",
    "## i.e. a line from (0,0) to (x,y)\n",
    "n_samples = As.shape[0]\n",
    "A = np.array(As).reshape(n_samples, 1)\n",
    "B = np.array(Bs).reshape(n_samples, 1)\n",
    "zeros = np.zeros(n_samples).reshape(n_samples, 1)\n",
    "A = np.concatenate([zeros, A], axis=1)\n",
    "B = np.concatenate([zeros, B], axis=1)    \n",
    "\n",
    "## Some initialization\n",
    "line = phasor.plot([], [], color='b', lw=3)[0]\n",
    "point = phasor.plot([], [], 'o', color='b',  markersize=10)[0]\n",
    "sin_t = sinusoid.plot([], [], 'o', color='b', markersize=10)[0]\n",
    "\n",
    "## Set axes lables\n",
    "phasor.set_xlabel(\"Real Component\")\n",
    "phasor.set_ylabel(\"Imaginary Component\")\n",
    "sinusoid.set_xlabel(\"Time ($t$ radians = $t$ seconds) \")\n",
    "sinusoid.set_ylabel(\"Amplitude\")\n",
    "\n",
    "\n",
    "## Do the animation!\n",
    "def anim_sinusoid(i):\n",
    "    t = thetas[i]\n",
    "    line.set_data(A[i, :], B[i,:])\n",
    "    point.set_data(A[i, 1], B[i,1])\n",
    "    sin_t.set_data(t, B[i, 1])\n",
    "\n",
    "anim = FuncAnimation(\n",
    "    fig, lambda x: anim_sinusoid(x), interval=600, frames=n_samples)\n",
    " \n",
    "## This might take a little while to start rendering\n",
    "HTML(anim.to_html5_video())\n"
   ]
  },
  {
   "cell_type": "code",
   "execution_count": null,
   "metadata": {},
   "outputs": [],
   "source": [
    "#anim.save(\"phasor.gif\",  writer='imagemagick') "
   ]
  },
  {
   "cell_type": "markdown",
   "metadata": {},
   "source": [
    "### Exercise\n",
    "* Q: What happens if you increase `theta_max`? \n",
    "* Q: What if you decrease the minimum `theta_min`\n"
   ]
  },
  {
   "cell_type": "markdown",
   "metadata": {},
   "source": [
    "### Notes"
   ]
  },
  {
   "cell_type": "code",
   "execution_count": null,
   "metadata": {},
   "outputs": [],
   "source": []
  },
  {
   "cell_type": "markdown",
   "metadata": {},
   "source": [
    "### Exercise\n",
    "\n",
    "The example above assumed that each angular step around the phasor, $\\theta$, was equivalent to $\\theta$ seconds (i.e. a step of $\\pi/2$ radians takes $\\pi/2$ seconds.  What's the frequency of the sine wave in the above animation? \n"
   ]
  },
  {
   "cell_type": "markdown",
   "metadata": {},
   "source": [
    "### Notes"
   ]
  },
  {
   "cell_type": "code",
   "execution_count": null,
   "metadata": {},
   "outputs": [],
   "source": []
  },
  {
   "cell_type": "markdown",
   "metadata": {},
   "source": [
    "### Take it easy with $e^{j\\theta}$\n",
    "\n",
    "Why use this phasor representation? At this point you may be wondering why not just directly use $\\sin(t)$ and $\\cos(t)$?  Well, it turns out that using this polar coordinate based representation for complex numbers (and hence our trig functions like sine and cosine) makes life a lot easier in many ways: \n",
    "\n",
    "* We can think of multiplication of two complex numbers as a rotation: $e^{j \\varphi} \\times e^{j \\theta} = e^{i (\\varphi + \\theta)}$\n",
    "    * That is, we just rotate the original complex number, $e^{j \\varphi}$, $\\theta$ degrees around the origin (0,0).\n",
    "    * If $\\theta > 0$ we rotate counterclockwise, and if $\\theta < 0$ we rotate clockwise.\n",
    "    * You just add the angles!\n",
    "    \n",
    "* Multiplication by a scalar is just a change of magnitude (stretch away from, or shrinking to the origin. \n",
    "\n",
    "* Calculus is also now way easier since we know that: \n",
    "$$\\frac{d e^{x}}{dx} = e^{x}$$\n",
    "   \n",
    "This makes the Fourier Transform (and so pretty much all of signal processing) way easier to deal with!"
   ]
  },
  {
   "cell_type": "code",
   "execution_count": null,
   "metadata": {},
   "outputs": [],
   "source": []
  }
 ],
 "metadata": {
  "kernelspec": {
   "display_name": "Python 3",
   "language": "python",
   "name": "python3"
  },
  "language_info": {
   "codemirror_mode": {
    "name": "ipython",
    "version": 3
   },
   "file_extension": ".py",
   "mimetype": "text/x-python",
   "name": "python",
   "nbconvert_exporter": "python",
   "pygments_lexer": "ipython3",
   "version": "3.8.5"
  }
 },
 "nbformat": 4,
 "nbformat_minor": 2
}
