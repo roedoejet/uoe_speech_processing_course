{
 "cells": [
  {
   "cell_type": "markdown",
   "metadata": {},
   "source": [
    "#### _Speech Processing Labs 2020: Signals: Module 1_"
   ]
  },
  {
   "cell_type": "code",
   "execution_count": 1,
   "metadata": {},
   "outputs": [
    {
     "name": "stderr",
     "output_type": "stream",
     "text": [
      "Matplotlib is building the font cache; this may take a moment.\n"
     ]
    }
   ],
   "source": [
    "## Run this first!\n",
    "%matplotlib inline\n",
    "import sys\n",
    "import matplotlib.pyplot as plt\n",
    "import numpy as np\n",
    "\n",
    "import cmath\n",
    "from matplotlib.animation import FuncAnimation\n",
    "from IPython.display import HTML\n",
    "plt.style.use('ggplot')\n",
    "\n",
    "from dspMisc import *"
   ]
  },
  {
   "cell_type": "markdown",
   "metadata": {},
   "source": [
    "# 3 Digital Signals: Sampling and Superposition\n",
    "\n",
    "### Learning Outcomes\n",
    "* Understand how we can approximate a sine wave with a specific frequency, given a specific sampling rate\n",
    "* Understanding how sampling rate limits the types of sinusoids we can describe with discrete sequences\n",
    "* Understand the concept of aliasing and how this relates the sampling rate and the Nyquist frequency.\n",
    "* Observe how compound waveforms can be described as a linear combination of phasors ('superposition')\n",
    "\n",
    "### Need to know\n",
    "* Topic Videos: Digital Signal, Short Term Analysis, Series Expansion\n",
    "* [Phasors, complex numbers and sinusoids](./sp-m1-2-digital-signals-complex-numbers.ipynb)\n"
   ]
  },
  {
   "cell_type": "markdown",
   "metadata": {},
   "source": [
    "## 3.1 Sampling Rates and Phasor Frequencies\n",
    "\n",
    "In the previous [notebook](./sp-m1-2-digital-signals-complex-numbers.ipynb), we saw how we could represent sinusoids by rotating a complex number around a circle at a specific angular frequency, i.e. a phasor.  So, how do we generate a phasor with a specific frequency $f$?  Remember, we're dealing with the digital world here, so if we want to analyze a wave, we also need to sample it at a specific **sampling rate**, $f_s$. \n",
    "\n",
    "For a given sampling rate $f_s$ (samples/second) we can work out the time between each sample as:\n",
    "\n",
    "$$t_s = \\frac{1}{f_s}$$ \n",
    "\n",
    "The units of $t_s$ is seconds/sample.  That means that if we want a phasor to complete $f$ cycles/second, we need to calculate how big each $\\theta_s$ step (angle) we need to rotate our phasor every $t_s$ seconds. \n",
    "\n",
    "The units here help us figure this out: the desired frequency $f$ has units cycles/second. So, we can calculate what fraction of a complete cycle we need to take with each sample by multiplying $f$ with the sampling time $t_s$. \n",
    "* $c_s = ft_s$.  \n",
    "* cycles/sample  = cycles/second x seconds/sample \n",
    "\n",
    "We know each cycle is $2\\pi$ radians (360 degrees), so we can then convert $c_s$ to an angle as follows: \n",
    "* $ \\theta_s = 2 \\pi c_s $\n"
   ]
  },
  {
   "cell_type": "markdown",
   "metadata": {},
   "source": [
    "### Exercise\n",
    "\n",
    "Q: Calculate the angle between samples for a given frequency $f=8$ Hz and sampling rate of $f_s=64$  \n"
   ]
  },
  {
   "cell_type": "markdown",
   "metadata": {},
   "source": [
    "### Notes"
   ]
  },
  {
   "cell_type": "code",
   "execution_count": null,
   "metadata": {},
   "outputs": [],
   "source": []
  },
  {
   "cell_type": "markdown",
   "metadata": {},
   "source": [
    "### Setting the Phasor Frequency\n",
    "Now, we can write a function that calculates the complex values (`zs`), angles  (`thetas`) and time steps (`tsteps`) for a phasor with a given frequency `freq` over a given time period (`Tmin` to `Tmax`). "
   ]
  },
  {
   "cell_type": "code",
   "execution_count": null,
   "metadata": {},
   "outputs": [],
   "source": [
    "## A function that returns the complex numbers corresponding to the sine wave\n",
    "## from time Tmin to Tmax, given a sample time of t_step and a desired \n",
    "## frequency (freq)\n",
    "\n",
    "def gen_phasor_vals_freq(Tmin=0, Tmax=10, t_step=0.23, freq=None, R=1):    \n",
    "    # generate the sequence of times for our samples\n",
    "    tsteps = np.arange(Tmin, Tmax, t_step)\n",
    "    \n",
    "    # if we want to match this to a given frequency:\n",
    "    if freq != None:\n",
    "        rads_per_sec = 2*np.pi*freq\n",
    "        theta_s = rads_per_sec*t_step\n",
    "        thetas = np.arange(Tmin*rads_per_sec, Tmax*rads_per_sec, theta_s)\n",
    "        \n",
    "    # otherwise assume that rotating t_step radians takes t_step seconds\n",
    "    else: \n",
    "        thetas = np.arange(Tmin, Tmax, t_step)\n",
    "\n",
    "    ## A sequence of complex numbers corresponding to our sequence of angles `thetas`\n",
    "    zs = R*np.exp(1j*thetas)\n",
    " \n",
    "    ## For convenience we return the theta values and time steps as well\n",
    "    return zs, thetas, tsteps\n",
    "\n"
   ]
  },
  {
   "cell_type": "markdown",
   "metadata": {},
   "source": [
    "### Example: \n",
    "\n",
    "Let's look at a phasor and corresponding sine wave with frequency $f=2$ Hz (`freq`), given a sampling rate of $f_s=16$ (`sampling_rate`) over 4 seconds. "
   ]
  },
  {
   "cell_type": "code",
   "execution_count": null,
   "metadata": {},
   "outputs": [],
   "source": [
    "## Our parameters:\n",
    "Tmax = 4\n",
    "Tmin = 0\n",
    "\n",
    "freq = 2     # cycles/second\n",
    "sampling_rate = 16 # f_s above\n",
    "t_step=1/sampling_rate"
   ]
  },
  {
   "cell_type": "code",
   "execution_count": null,
   "metadata": {},
   "outputs": [],
   "source": [
    "## Get our complex values corresponding to the phasor with frequency freq\n",
    "zs, thetas, tsteps = gen_phasor_vals_freq(Tmin=Tmin, Tmax=Tmax, t_step=t_step, freq=freq)\n",
    "\n",
    "## Project to real and imaginary parts for plotting\n",
    "As = np.real(zs)\n",
    "Bs = np.imag(zs)\n",
    "A, B, n_samples = get_line_coords(As, Bs)\n",
    "\n",
    "## generate the background\n",
    "fig, phasor, sinusoid = create_anim_bkg(tsteps, thetas, freq)\n",
    "\n",
    "## Plot our actual sampled sine wave in magenta\n",
    "sinusoid.plot(tsteps, Bs, 'o', color='magenta')\n"
   ]
  },
  {
   "cell_type": "code",
   "execution_count": null,
   "metadata": {},
   "outputs": [],
   "source": [
    "## Animate\n",
    "phasor.scatter(As, Bs)\n",
    "line = phasor.plot([], [], color='b', lw=3)[0]\n",
    "sin_t = sinusoid.plot([], [], 'o', color='b')[0]\n",
    "figs = (line, sin_t)\n",
    "anim = FuncAnimation(\n",
    "    fig, lambda x: anim_sinusoid(x, X=A, Y=B, tsteps=tsteps, figs=figs), interval=600, frames=n_samples)\n",
    " \n",
    "HTML(anim.to_html5_video())\n"
   ]
  },
  {
   "cell_type": "markdown",
   "metadata": {},
   "source": [
    "\n",
    "### Exercise \n",
    "Change the `freq` variable in the code below to investigate: \n",
    "\n",
    "* What happens when the sine wave frequency (cycles/second) is equal to `sample_rate/2`\n",
    "* What happens when the sampling time (`t_step`) is near half the period (`1/freq`)?\n",
    "* What happens when the frequency is greater than `sample_rate/2`"
   ]
  },
  {
   "cell_type": "code",
   "execution_count": null,
   "metadata": {},
   "outputs": [],
   "source": [
    "## Example: Play around with these values\n",
    "Tmax = 1\n",
    "Tmin = 0\n",
    "\n",
    "freq = 2   # cycles/second\n",
    "sampling_rate = 16 # f_s above\n",
    "t_step=1/sampling_rate\n",
    "\n",
    "## Get our complex values corresponding to the sine wave\n",
    "zs, thetas, tsteps = gen_phasor_vals_freq(Tmin=Tmin, Tmax=Tmax, t_step=t_step, freq=freq)\n",
    "\n",
    "## Project to real and imaginary parts for plotting\n",
    "As = np.real(zs)\n",
    "Bs = np.imag(zs)\n",
    "A, B, n_samples = get_line_coords(As, Bs)\n",
    "\n",
    "## generate the background\n",
    "fig, phasor, sinusoid = create_anim_bkg(tsteps, thetas, freq)\n",
    "\n",
    "## Plot our actual sampled sine wave in magenta\n",
    "sinusoid.plot(tsteps, Bs, 'o', color='magenta')\n",
    "\n",
    "## Animate\n",
    "phasor.scatter(As, Bs)\n",
    "line = phasor.plot([], [], color='b', lw=3)[0]\n",
    "sin_t = sinusoid.plot([], [], 'o', color='b')[0]\n",
    "figs = (line, sin_t)\n",
    "anim = FuncAnimation(\n",
    "    fig, lambda x: anim_sinusoid(x, X=A, Y=B, tsteps=tsteps, figs=figs), interval=600, frames=n_samples)\n",
    " \n",
    "HTML(anim.to_html5_video())\n"
   ]
  },
  {
   "cell_type": "markdown",
   "metadata": {},
   "source": [
    "###  Notes\n"
   ]
  },
  {
   "cell_type": "code",
   "execution_count": null,
   "metadata": {},
   "outputs": [],
   "source": []
  },
  {
   "cell_type": "markdown",
   "metadata": {},
   "source": [
    "## 3.2 Aliasing\n",
    "\n",
    "If you change the frequency (`freq`) for the phasor to be higher than half the sampling rate (`sample_rate/2`), you'll see that the actual frequency of the sinusoid doesn't actually keep getting higher.  In fact, with `freq=8` the sine wave (i.e. projection of the imaginary component) doesn't appear to have any amplitude modulation at all.  However, keen readers will note that for this `freq=8` example, the real projection (i.e. cosine) would show amplitude modulations since cos(t) is 90 degree phase shifted relative to sine(t). The phasor `freq=15` appears to complete only one cycle per second, just like for `freq=1`.  \n",
    "\n",
    "These are examples of **aliasing**: given a specific sampling rate there is a limit to which we can distinguish different frequencies because we simply can't take enough samples to show the difference! \n",
    "\n",
    "In the example above, even though we are sampling from a 15 Hz wave for `freq=15`, we only get one sample per cycle and the overall sampled sequence looks like a 1 Hz wave. \n",
    "\n",
    "<div class=\"alert alert-warning\">\n",
    "In general, with a sampling rate of $f_s$ we can't distinguish between a sine wave of frequency $f_0$ and a sine wave of $f_0 + kf_s$ for any integer $k$.\n",
    "</div>\n",
    "\n",
    "This means that we can't actually tell the frequency of the underlying waveform just based on the sample amplitudes alone. \n",
    "\n",
    "The practical upshot of this is that for sampling rate $f_s$, the highest frequency we can actually sample is $f_s/2$, often called the **Nyquist Frequency**.  This is one of the most important concepts in digital signal processing and will effect pretty much all the methods we use.  So, if you remember just one thing, remember this! \n",
    "\n"
   ]
  },
  {
   "cell_type": "markdown",
   "metadata": {},
   "source": [
    "## 3.3 Superposition\n",
    "\n",
    "This use of phasors to represent sinusoids may seem excessively complex at the moment, but it actually gives us a nice way of visualizing what happens when we add two sine waves together, i.e. linear superposition.  \n",
    "\n",
    "Eventually we'll see how the Fourier Transform gives us a way of breaking down periodic waveforms (no matter how complicated) into a linear combination of sine waves (or equivalently cosine waves, as the case may be).  We'll see that this makes life a lot easier for analyzing the spectrum of speech sounds.  But for now, let's just look at how can combining phasors can let us define complicated waveforms in a simple manner. \n",
    "\n"
   ]
  },
  {
   "cell_type": "markdown",
   "metadata": {},
   "source": [
    "### Magnitude and Phase Modifications\n",
    "First, let's note that we can easily change the magnitude and phase of a sine wave before adding it to others to make a compound waveform. \n",
    "\n",
    "* We can change the magnitude of a sinusoidal component by multiplying all the values of that sinusoid by a scalar $r$.\n",
    "\n",
    "* We can apply a phase shift of $\\phi$ radians to $\\sin(t)$ to gives us a sine wave of the form: $\\sin(\\theta + \\phi)$.  It basically means we start our cycles around the unit circle at $e^{i\\phi}$ instead of at $e^{i0} = 1 + i0 = (1,0)$ "
   ]
  },
  {
   "cell_type": "markdown",
   "metadata": {},
   "source": [
    "### Generating linear combinations of sinusoids\n",
    "\n",
    "Let's plot some combinations of sinusoids.\n",
    "\n",
    "First let's set the sampling rate and the start and end times of the sequence we're going to generate:"
   ]
  },
  {
   "cell_type": "code",
   "execution_count": null,
   "metadata": {},
   "outputs": [],
   "source": [
    "## Some parameters to play with \n",
    "Tmax = 2\n",
    "Tmin = 0\n",
    "\n",
    "sampling_rate = 16\n",
    "t_step=1/sampling_rate"
   ]
  },
  {
   "cell_type": "markdown",
   "metadata": {},
   "source": [
    "Now, let's create some phasors with different magnitudes, frequencies and phases"
   ]
  },
  {
   "cell_type": "code",
   "execution_count": null,
   "metadata": {},
   "outputs": [],
   "source": [
    "## Define a bunch of sinusoids.  We can do this in terms of 3 parameters:  \n",
    "## (magnitude, frequency, phase)\n",
    "## The following defines two sinusoids, both with magnitude (peak amplitude) 1 and the same phase (no phase shift) \n",
    "## The second has double the frequency of the first:\n",
    "freq=2\n",
    "params = [(1, freq, 0), (1, 2*freq, 0)]  \n",
    "\n",
    "## Ex: change these values and see what happens, e.g. \n",
    "#params = [(1, freq, 0), (0.4, 5*freq, 0), (0.4, 5*freq, np.pi)]  "
   ]
  },
  {
   "cell_type": "code",
   "execution_count": null,
   "metadata": {},
   "outputs": [],
   "source": [
    "## Get the real and imaginary parts to plot in rectangular coordinates\n",
    "# Using numpy built in\n",
    "\n",
    "phasor_list = []\n",
    "theta_list = []\n",
    "tsteps_list = []\n",
    "\n",
    "## Generate sinusoids for each set of (mag, freq, phase) parameters\n",
    "for mag, freq, phase in params: \n",
    "    ## Generate a phasor with frequency freq\n",
    "    zs, thetas, tsteps = gen_phasor_vals_freq(Tmin=Tmin, Tmax=Tmax, t_step=t_step, freq=freq) \n",
    "    \n",
    "    ## Apply the phase shift\n",
    "    phase_shift = np.exp(1j*phase)\n",
    "    zs = mag*zs*phase_shift\n",
    "    \n",
    "    ## Append the phasor to a list\n",
    "    phasor_list.append(zs)\n",
    "    \n",
    "    ## The angle sequence and time sequence in case you want to inspect them\n",
    "    ## We don't actually use them below\n",
    "    theta_list.append(thetas)\n",
    "    tsteps_list.append(tsteps)\n",
    "\n",
    "## Superposition - add the individual phasors in the list together (all with the same weights right now)\n",
    "zs_sum = np.zeros(len(tsteps_list[0]))\n",
    "for z in phasor_list: \n",
    "    zs_sum = zs_sum + z\n",
    "\n"
   ]
  },
  {
   "cell_type": "markdown",
   "metadata": {},
   "source": [
    "Now, we can plot the sine component of the phasors (on the right)"
   ]
  },
  {
   "cell_type": "code",
   "execution_count": null,
   "metadata": {},
   "outputs": [],
   "source": [
    "## Plot the phasor (left) and the projection of the imaginary (vertical) component (right)\n",
    "## rproj would be the projection to the real axis, but let's just ignore that for now\n",
    "\n",
    "fig, phasor, iproj, rproj = create_phasor_sinusoid_bkg(Tmin, Tmax, ymax=3, plot_phasor=True, plot_real=False, plot_imag=True,)\n",
    "\n",
    "dense_tstep=0.001\n",
    "for mag, freq, phase in params:  \n",
    "    ## We just want to plot the individual sinusoids (time v amplitude), so we ignore \n",
    "    ## the complex numbers we've been using to plot the phasors\n",
    "    _, dense_thetas, dense_tsteps = gen_phasor_vals_freq(Tmin, Tmax, dense_tstep, freq)    \n",
    "    iproj.plot(dense_tsteps, mag*np.sin(dense_thetas+phase), color='grey')"
   ]
  },
  {
   "cell_type": "markdown",
   "metadata": {},
   "source": [
    "now plot the sum of the phasors (left) and the projected imaginary component in magenta (right) - that is, the sum of the sine components (in grey)"
   ]
  },
  {
   "cell_type": "code",
   "execution_count": null,
   "metadata": {
    "scrolled": false
   },
   "outputs": [],
   "source": [
    "## Plot sinusoids as sampled\n",
    "Xlist = []\n",
    "Ylist = []\n",
    "\n",
    "dense_tstep=0.001\n",
    "for i, zs in enumerate(phasor_list):\n",
    "    Xs_ = np.real(zs)\n",
    "    Ys_ = np.imag(zs)\n",
    "    X_, Y_, _ = get_line_coords(Xs_, Ys_)\n",
    "    Xlist.append(X_)\n",
    "    Ylist.append(Y_)\n",
    "\n",
    "\n",
    "Xs = np.real(zs_sum)\n",
    "Ys = np.imag(zs_sum)\n",
    "Xline, Yline, _ = get_line_coords(Xs, Ys)\n",
    "\n",
    "iproj.plot(tsteps_list[0], Ys, color='magenta')\n",
    "phasor.scatter(Xs, Ys)\n",
    "fig"
   ]
  },
  {
   "cell_type": "markdown",
   "metadata": {},
   "source": [
    "Now let's see an animation of how we're adding these phasors together! "
   ]
  },
  {
   "cell_type": "code",
   "execution_count": null,
   "metadata": {},
   "outputs": [],
   "source": [
    "anim = get_phasor_animation(Xline, Yline, tsteps, phasor, iproj, rproj, fig, Xlist=Xlist, Ylist=Ylist, params=params)\n",
    "anim"
   ]
  },
  {
   "cell_type": "markdown",
   "metadata": {},
   "source": [
    "### Exercise:\n",
    "\n",
    "\n",
    "* What happens when you add up two sinusoids with the same frequency but different magnitudes\n",
    "    * e.g. `params = [(1, freq, 0), (2, freq, 0)]`\n",
    "    \n",
    "    \n",
    "* What happens when you change the phase? \n",
    "    * Can you find $\\phi$ such that $\\sin(\\theta+\\phi) = \\cos(\\theta)$ ? \n",
    "    \n",
    "    \n",
    "* When do the individual sinusoids cancel each other out? \n",
    "\n",
    "\n",
    "* Assume you have a compound sinusoid defined by the following params: \n",
    "    * `params = [(1, freq, 0), (0.4, 5*freq, 0)]`  \n",
    "    * What sinusoid could you add to cancel the higher frequency component out while keeping the lower frequency one? \n"
   ]
  },
  {
   "cell_type": "markdown",
   "metadata": {},
   "source": [
    "### Notes\n"
   ]
  },
  {
   "cell_type": "code",
   "execution_count": null,
   "metadata": {},
   "outputs": [],
   "source": []
  },
  {
   "cell_type": "markdown",
   "metadata": {},
   "source": [
    "_Next we'll look at the Discrete Fourier Transform in more detail_"
   ]
  }
 ],
 "metadata": {
  "kernelspec": {
   "display_name": "Python 3",
   "language": "python",
   "name": "python3"
  },
  "language_info": {
   "codemirror_mode": {
    "name": "ipython",
    "version": 3
   },
   "file_extension": ".py",
   "mimetype": "text/x-python",
   "name": "python",
   "nbconvert_exporter": "python",
   "pygments_lexer": "ipython3",
   "version": "3.8.5"
  }
 },
 "nbformat": 4,
 "nbformat_minor": 2
}
