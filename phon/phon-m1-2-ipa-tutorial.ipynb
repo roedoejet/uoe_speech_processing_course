{
 "cells": [
  {
   "cell_type": "markdown",
   "metadata": {},
   "source": [
    "#### _Speech Processing 2020: PHON_"
   ]
  },
  {
   "cell_type": "markdown",
   "metadata": {},
   "source": [
    "# Module 1:  PHON Tutorial\n",
    "\n",
    "1. With the aid of an IPA chart, fill in the following table: \n",
    "\n",
    "\n",
    "| Phonetic description        \t| IPA Symbol \t|\n",
    "|:-----------------------------\t|:------------:\t|\n",
    "| Voiceless bilabial stop     \t|            \t|\n",
    "|                             \t| ɣ          \t|\n",
    "| Voiceless dental fricative  \t|            \t|\n",
    "| Close front rounded vowel   \t|            \t|\n",
    "|                             \t| j          \t|\n",
    "|                             \t| ɯ          \t|\n",
    "| Open-mid back rounded vowel \t|            \t|"
   ]
  },
  {
   "cell_type": "markdown",
   "metadata": {},
   "source": [
    "2. Using IPA symbols, write out your pronunciation of the following words on paper: \n",
    "\n",
    "    a. Hello  <br/>\n",
    "    b. World <br/>\n",
    "    c. Screech <br/>\n",
    "    d. And <br/>\n",
    "    e. Languish <br/>\n",
    "    f. Protesting <br/>\n",
    "    g. Language<br/>"
   ]
  },
  {
   "cell_type": "markdown",
   "metadata": {},
   "source": [
    "3. How do your IPA transcriptions differ from those in the Cambridge dictionary? \n",
    "    * Search here: https://dictionary.cambridge.org/dictionary/english/  \n",
    "\n",
    "  Why do they differ? \n",
    "\n",
    " "
   ]
  },
  {
   "cell_type": "markdown",
   "metadata": {},
   "source": [
    "4. Transliterate your IPA transcriptions with the following phonesets (use the mapping in the appendix): \n",
    "\n",
    "  a. ARPAbet<br/>\n",
    "  b. Unisyn "
   ]
  },
  {
   "cell_type": "markdown",
   "metadata": {},
   "source": [
    "5. We will use ARPAbet and Unisyn in Festival. Familiarise yourself with the [tutorial1/unilex_phones.scm](https://laic.github.io/uoe_speech_processing_course/phon/tutorial1/unilex_phones.scm) file. You will need to open this in a text editor such as Atom (or view it [here on github](https://github.com/laic/uoe_speech_processing_course/blob/master/phon/tutorial1/unilex_phones.scm)).  Uni**lex** is a lexicon based on the uni**syn** database. Can you tell how the `defPhoneSet` function encodes phonetic dimensions? \n",
    "\n",
    " "
   ]
  },
  {
   "cell_type": "markdown",
   "metadata": {},
   "source": [
    "6. Download (or find in your repository in `phon/tutorial1/eng_wavs`) the following English wav  files:\n",
    "\n",
    "    * [hvd_001.wav](https://laic.github.io/uoe_speech_processing_course/phon/tutorial1/eng_wavs/hvd_001.wav)\n",
    "    * [hvd_002.wav](https://laic.github.io/uoe_speech_processing_course/phon/tutorial1/eng_wavs/hvd_002.wav)\n",
    "    * [LJ027-0094.wav](https://laic.github.io/uoe_speech_processing_course/phon/tutorial1/eng_wavs/LJ027-0094.wav)\n",
    "    * [sa1.wav](https://laic.github.io/uoe_speech_processing_course/phon/tutorial1/eng_wavs/sa1.wav)\n",
    "\n",
    "  Then, use this automatic IPA transcriber:\n",
    "  https://www.dictate.app/phone - Choose the appropriate language from the list on the left, then drag and drop the audio file into the transcriber window. \n",
    "\n",
    "    a. Without listening to the English audio files, can you guess the words from the phones? \n",
    "  \n",
    "    b. Can you find any errors in the IPA transcription? Write down the corrections. \n",
    "\n",
    "\n",
    "\n",
    "7. Download the following file: \n",
    "\n",
    "   * [japhug-clip.wav](https://laic.github.io/uoe_speech_processing_course/phon/tutorial1/Japhug_clip.wav)\n",
    "   \n",
    "   a. Transcribe the Japhug clip: Select Japhug from the list of languages, and then drag and drop the file into the transcriber window. \n",
    "  \n",
    "   b. Compare the gold IPA transcription below to that produced by the automatic transcriber. \n",
    "   \n",
    " <blockquote>\n",
    "      qale cʰo tɤŋe kɤ-ti ɲɯ-ŋu. kɯɕɯŋgɯ tɕe, iɕqʰa \n",
    "   </blockquote>\n",
    "\n",
    "  c. Could you use this tool to create a lexicon (pronunciation dictionary) for an unseen language? What difficulties might you face? How would you measure transcription accuracy? "
   ]
  },
  {
   "cell_type": "markdown",
   "metadata": {},
   "source": [
    "----\n",
    "### Appendix - Approximate mappings across phonesets: \n",
    "\n",
    " \n",
    "\n",
    "| IPA    | Keyword    | ARPAbet | Unilex | Combilex |\n",
    "|--------|------------|---------|--------|----------|\n",
    "| ə      | COMMA      |      ax |   @    |  @       |\n",
    "|æ / a   |TRAP   | ae   | a   | a |\n",
    "|ɑː    |PALM   | aa |   aa  |  A |\n",
    "|aɪ  |  PRICE   | ay  |  ai  |  aI |\n",
    "|b  |  BAT       | b  |  b  |  b |\n",
    "|ʧ  |  CHAT    | ch   | ch  |  tS |\n",
    "|d  |  DAB     |   d   | d |   d |\n",
    "|ð  |  THAT |   dh  |  dh  |  D |\n",
    "|ɛ  |  DRESS |   eh   | e   | E |\n",
    "|ɛɪ   | WAIST |   ey  |  ei|    eI |\n",
    "|f  |  FAT    |    f |   f|    f |\n",
    "|g |   GAP |       g  |  g |   g |\n",
    "|h  |  HAT   |     hh  |  h  |  h |\n",
    "|ʍ   | WHACK   | w  |  hw |   W |\n",
    "|ɪ  |  KIT   | ih   | i  |  I |\n",
    "|iː  |  FLEECE  |  iy |   ii  |  i |\n",
    "|ʤ  |  JAB      |  jh   | jh |   dZ |\n",
    "|k  |  CAT   |     k   | k  |  k |\n",
    "|l   | LAD    |    l |   l  |  l |\n",
    "|l̩  |  CATTLE |  el   | l=   | l= |\n",
    "|ɫ  |  FEEL  |  l |   lw  |  5 |\n",
    "|m   | MAT     |   m |   m   | m |\n",
    "|m̩  |  SPASM   | em   | m=  |  m= |\n",
    "|n  |  NAP  |      n   | n |   n |\n",
    "|n̩   | GARDEN   | en   | n= |   n= |\n",
    "|ŋ  |  PANG    |ng |   ng   | N |\n",
    "|ɔɪ   | CHOICE |   oy  |  oi |   OI |\n",
    "|ɒ  |  LOT      |   oh|    Q |   Q |\n",
    "|ɔː  |  THOUGHT   | ao  |  oo   | O |\n",
    "|aʊ  |  MOUTH  |  aw   | ow |   aU |\n",
    "|əʊ  |  GOAT  |  ow  |  ou |   @U |\n",
    "|p  |  PAT     |   p  |  p  |  p |\n",
    "|ɹ  |  RAT      |  r  |  r   | r |\n",
    "|ə  |  LETTER   | axr   | @r |  @ |\n",
    "|s  |  SAT      |  s  |  s |   s |\n",
    "|ʃ  |  SHAM |   sh  |  sh |   S |\n",
    "|t  |  TAT |      t  |  t  |  t |\n",
    "|ɾ   | BUTTER   | t |   t^  |  4 |\n",
    "|θ   | MATH   | th |   th |   T |\n",
    "|ʊ   | FOOT  |  uh  |  u |   U |\n",
    "|ʌ    |STRUT |  ah  |  uh |   V |\n",
    "|uː  |  GOOSE |   uw  |  uu |   u |\n",
    "|v   | VAT     |   v  |  v |   v |\n",
    "|w   | WAG     |   w  |  w   | w |\n",
    "|j   | YAP      |  y  |  y  |  j |\n",
    "|z   | ZAP     |   z  | z  |  z |\n",
    "|ʒ   | BEIGE  |  zh  |  zh |   Z |"
   ]
  },
  {
   "cell_type": "code",
   "execution_count": null,
   "metadata": {},
   "outputs": [],
   "source": []
  }
 ],
 "metadata": {
  "kernelspec": {
   "display_name": "Python 3",
   "language": "python",
   "name": "python3"
  },
  "language_info": {
   "codemirror_mode": {
    "name": "ipython",
    "version": 3
   },
   "file_extension": ".py",
   "mimetype": "text/x-python",
   "name": "python",
   "nbconvert_exporter": "python",
   "pygments_lexer": "ipython3",
   "version": "3.8.5"
  }
 },
 "nbformat": 4,
 "nbformat_minor": 4
}
