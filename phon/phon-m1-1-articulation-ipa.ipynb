{
 "cells": [
  {
   "cell_type": "markdown",
   "metadata": {},
   "source": [
    "#### _Speech Processing Labs 2020: Phon 1: Speech Anatomy & IPA practice_"
   ]
  },
  {
   "cell_type": "markdown",
   "metadata": {},
   "source": [
    "Goals<a name=\"goals\"></a>\n",
    "=====\n",
    "\n",
    "At the end of this exercise you should be able to:\n",
    "\n",
    "-   Name the speech articulators and identify them on a mid-sagittal\n",
    "    diagram of the supralaryngeal vocal tract\n",
    "\n",
    "-   Identify speech sounds based on their articulatory parameters\n",
    "\n",
    "-   Relate IPA symbols to the speech sound that they represent\n",
    "\n",
    "-   Identify the cardinal vowels (and perhaps recognize them by ear)\n",
    "\n",
    "Preliminaries<a name=\"preliminaries\"></a>\n",
    "=============\n",
    "\n",
    "Before you begin, you'll need to enrol in the Phonetics Foundations\n",
    "course on Quizlet via this [join\n",
    "link](https://quizlet.com/join/wGbQPp72d). If you have any trouble\n",
    "enrolling, please email Rebekka: `r.puderbaugh@ed.ac.uk`\n",
    "\n",
    "Articulation and IPA practice\n",
    "=============================\n",
    "\n",
    "The Phonetics Foundations course on Quizlet provides a suite of learning\n",
    "tools and quizzes to help you learn the names of IPA symbols and the\n",
    "articulatory phonetic descriptions that we use to define them.\n",
    "\n",
    "There are four units for you to practice with and study:\n",
    "\n",
    "-   [Supralaryngeal vocal\n",
    "    anatomy](https://quizlet.com/gb/524799722/supralaryngeal-vocal-anatomy-diagram/)\n",
    "\n",
    "-   [Mid-sagittal articulation\n",
    "    diagrams](https://quizlet.com/_8o90n4?x=1jqt&i=32acp4)\n",
    "\n",
    "-   [Pulmonic consonants](https://quizlet.com/_8ou1q2?x=1jqt&i=32acp4)\n",
    "\n",
    "-   [Cardinal vowels](https://quizlet.com/_8otswx?x=1jqt&i=32acp4)\n",
    "\n",
    "Use any of the the practice features (Learn, Flashcards, Play, etc.) to\n",
    "familiarise yourself with the material in each of the four units. Then,\n",
    "click on Test to test your knowledge. You can repeat the test as many\n",
    "times as you like.\n",
    "\n",
    "More practice\n",
    "=============\n",
    "\n",
    "Sammy is an interactive sagittal section tool that allows you to set\n",
    "various articulatory parameters with Play around with\n",
    "[Sammy](http://smu-facweb.smu.ca/~s0949176/sammy/) the interactive\n",
    "sagittal section.\n"
   ]
  },
  {
   "cell_type": "code",
   "execution_count": null,
   "metadata": {},
   "outputs": [],
   "source": []
  }
 ],
 "metadata": {
  "kernelspec": {
   "display_name": "Python 3",
   "language": "python",
   "name": "python3"
  },
  "language_info": {
   "codemirror_mode": {
    "name": "ipython",
    "version": 3
   },
   "file_extension": ".py",
   "mimetype": "text/x-python",
   "name": "python",
   "nbconvert_exporter": "python",
   "pygments_lexer": "ipython3",
   "version": "3.8.5"
  }
 },
 "nbformat": 4,
 "nbformat_minor": 4
}
